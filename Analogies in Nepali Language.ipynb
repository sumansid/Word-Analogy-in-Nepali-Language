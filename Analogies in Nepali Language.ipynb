{
 "cells": [
  {
   "cell_type": "code",
   "execution_count": 3,
   "metadata": {},
   "outputs": [
    {
     "name": "stderr",
     "output_type": "stream",
     "text": [
      "unable to import 'smart_open.gcs', disabling that module\n"
     ]
    }
   ],
   "source": [
    "import numpy as np\n",
    "from gensim.models import KeyedVectors"
   ]
  },
  {
   "cell_type": "code",
   "execution_count": 4,
   "metadata": {},
   "outputs": [],
   "source": [
    "## File Paths\n",
    "word_2_vec = \"nepali_embeddings_word2vec.txt\"\n",
    "model = KeyedVectors.load_word2vec_format(word_2_vec, binary=False)"
   ]
  },
  {
   "cell_type": "code",
   "execution_count": 8,
   "metadata": {},
   "outputs": [
    {
     "data": {
      "text/plain": [
       "[('दरबारमार्ग', 0.7122325897216797),\n",
       " ('न्युरोड', 0.6694843769073486),\n",
       " ('लेकसाइड', 0.6377348899841309),\n",
       " ('दरवारमार्ग', 0.6375789046287537),\n",
       " ('न्यूरोड', 0.62843918800354),\n",
       " ('गोंगबु', 0.599357545375824),\n",
       " ('सामाखुसी', 0.5941020846366882),\n",
       " ('सुन्धारा', 0.5935229063034058),\n",
       " ('खिचापोखरी', 0.5931925773620605),\n",
       " ('सोह्रखुट्टे', 0.5908024907112122)]"
      ]
     },
     "execution_count": 8,
     "metadata": {},
     "output_type": "execute_result"
    }
   ],
   "source": [
    "model.most_similar('ठमेल')"
   ]
  },
  {
   "cell_type": "code",
   "execution_count": null,
   "metadata": {},
   "outputs": [],
   "source": []
  },
  {
   "cell_type": "code",
   "execution_count": null,
   "metadata": {},
   "outputs": [],
   "source": []
  }
 ],
 "metadata": {
  "kernelspec": {
   "display_name": "Python 3",
   "language": "python",
   "name": "python3"
  },
  "language_info": {
   "codemirror_mode": {
    "name": "ipython",
    "version": 3
   },
   "file_extension": ".py",
   "mimetype": "text/x-python",
   "name": "python",
   "nbconvert_exporter": "python",
   "pygments_lexer": "ipython3",
   "version": "3.7.4"
  }
 },
 "nbformat": 4,
 "nbformat_minor": 2
}
